{
 "cells": [
  {
   "cell_type": "code",
   "execution_count": 20,
   "metadata": {
    "id": "8xp2P6Q88LNl"
   },
   "outputs": [],
   "source": [
    "import numpy as np\n",
    "import matplotlib.pyplot as plt\n",
    "from tqdm.notebook import tqdm\n",
    "import wget"
   ]
  },
  {
   "cell_type": "code",
   "execution_count": 13,
   "metadata": {
    "colab": {
     "base_uri": "https://localhost:8080/"
    },
    "executionInfo": {
     "elapsed": 13538,
     "status": "ok",
     "timestamp": 1653053638381,
     "user": {
      "displayName": "Eraldo Fernandes",
      "userId": "09824487528840751991"
     },
     "user_tz": -120
    },
    "id": "kvtIepggq0nd",
    "outputId": "3930fb57-55a6-4058-e693-2d4030bd0b85"
   },
   "outputs": [
    {
     "name": "stdout",
     "output_type": "stream",
     "text": [
      "Collecting nltk\n",
      "  Downloading nltk-3.8.1-py3-none-any.whl (1.5 MB)\n",
      "     ---------------------------------------- 1.5/1.5 MB 1.8 MB/s eta 0:00:00\n",
      "Collecting regex>=2021.8.3\n",
      "  Downloading regex-2024.4.16-cp37-cp37m-win_amd64.whl (269 kB)\n",
      "     -------------------------------------- 269.6/269.6 kB 1.5 MB/s eta 0:00:00\n",
      "Requirement already satisfied: tqdm in c:\\users\\lenovo\\anaconda3\\lib\\site-packages (from nltk) (4.64.1)\n",
      "Requirement already satisfied: joblib in c:\\users\\lenovo\\anaconda3\\lib\\site-packages (from nltk) (1.3.2)\n",
      "Requirement already satisfied: click in c:\\users\\lenovo\\anaconda3\\lib\\site-packages (from nltk) (8.0.4)\n",
      "Requirement already satisfied: importlib-metadata in c:\\users\\lenovo\\anaconda3\\lib\\site-packages (from click->nltk) (4.11.3)\n",
      "Requirement already satisfied: colorama in c:\\users\\lenovo\\anaconda3\\lib\\site-packages (from click->nltk) (0.4.6)\n",
      "Requirement already satisfied: zipp>=0.5 in c:\\users\\lenovo\\anaconda3\\lib\\site-packages (from importlib-metadata->click->nltk) (3.11.0)\n",
      "Requirement already satisfied: typing-extensions>=3.6.4 in c:\\users\\lenovo\\anaconda3\\lib\\site-packages (from importlib-metadata->click->nltk) (4.1.1)\n",
      "Installing collected packages: regex, nltk\n",
      "Successfully installed nltk-3.8.1 regex-2024.4.16\n",
      "Requirement already satisfied: seqeval in c:\\users\\lenovo\\anaconda3\\lib\\site-packages (1.2.2)\n",
      "Requirement already satisfied: numpy>=1.14.0 in c:\\users\\lenovo\\anaconda3\\lib\\site-packages (from seqeval) (1.21.5)\n",
      "Requirement already satisfied: scikit-learn>=0.21.3 in c:\\users\\lenovo\\anaconda3\\lib\\site-packages (from seqeval) (1.0.2)\n",
      "Requirement already satisfied: threadpoolctl>=2.0.0 in c:\\users\\lenovo\\anaconda3\\lib\\site-packages (from scikit-learn>=0.21.3->seqeval) (3.1.0)\n",
      "Requirement already satisfied: scipy>=1.1.0 in c:\\users\\lenovo\\anaconda3\\lib\\site-packages (from scikit-learn>=0.21.3->seqeval) (1.7.3)\n",
      "Requirement already satisfied: joblib>=0.11 in c:\\users\\lenovo\\anaconda3\\lib\\site-packages (from scikit-learn>=0.21.3->seqeval) (1.3.2)\n",
      "Requirement already satisfied: ipywidgets in c:\\users\\lenovo\\anaconda3\\lib\\site-packages (7.6.5)\n",
      "Requirement already satisfied: traitlets>=4.3.1 in c:\\users\\lenovo\\anaconda3\\lib\\site-packages (from ipywidgets) (5.7.1)\n",
      "Requirement already satisfied: widgetsnbextension~=3.5.0 in c:\\users\\lenovo\\anaconda3\\lib\\site-packages (from ipywidgets) (3.5.2)\n",
      "Requirement already satisfied: ipython-genutils~=0.2.0 in c:\\users\\lenovo\\anaconda3\\lib\\site-packages (from ipywidgets) (0.2.0)\n",
      "Requirement already satisfied: ipykernel>=4.5.1 in c:\\users\\lenovo\\anaconda3\\lib\\site-packages (from ipywidgets) (6.15.2)\n",
      "Requirement already satisfied: nbformat>=4.2.0 in c:\\users\\lenovo\\anaconda3\\lib\\site-packages (from ipywidgets) (5.7.0)\n",
      "Requirement already satisfied: ipython>=4.0.0 in c:\\users\\lenovo\\anaconda3\\lib\\site-packages (from ipywidgets) (7.31.1)\n",
      "Requirement already satisfied: jupyterlab-widgets>=1.0.0 in c:\\users\\lenovo\\anaconda3\\lib\\site-packages (from ipywidgets) (1.0.0)\n",
      "Requirement already satisfied: nest-asyncio in c:\\users\\lenovo\\anaconda3\\lib\\site-packages (from ipykernel>=4.5.1->ipywidgets) (1.5.6)\n",
      "Requirement already satisfied: jupyter-client>=6.1.12 in c:\\users\\lenovo\\anaconda3\\lib\\site-packages (from ipykernel>=4.5.1->ipywidgets) (7.4.9)\n",
      "Requirement already satisfied: matplotlib-inline>=0.1 in c:\\users\\lenovo\\anaconda3\\lib\\site-packages (from ipykernel>=4.5.1->ipywidgets) (0.1.6)\n",
      "Requirement already satisfied: tornado>=6.1 in c:\\users\\lenovo\\anaconda3\\lib\\site-packages (from ipykernel>=4.5.1->ipywidgets) (6.2)\n",
      "Requirement already satisfied: pyzmq>=17 in c:\\users\\lenovo\\anaconda3\\lib\\site-packages (from ipykernel>=4.5.1->ipywidgets) (23.2.0)\n",
      "Requirement already satisfied: psutil in c:\\users\\lenovo\\anaconda3\\lib\\site-packages (from ipykernel>=4.5.1->ipywidgets) (5.9.0)\n",
      "Requirement already satisfied: debugpy>=1.0 in c:\\users\\lenovo\\anaconda3\\lib\\site-packages (from ipykernel>=4.5.1->ipywidgets) (1.5.1)\n",
      "Requirement already satisfied: packaging in c:\\users\\lenovo\\anaconda3\\lib\\site-packages (from ipykernel>=4.5.1->ipywidgets) (22.0)\n",
      "Requirement already satisfied: decorator in c:\\users\\lenovo\\anaconda3\\lib\\site-packages (from ipython>=4.0.0->ipywidgets) (5.1.1)\n",
      "Requirement already satisfied: setuptools>=18.5 in c:\\users\\lenovo\\anaconda3\\lib\\site-packages (from ipython>=4.0.0->ipywidgets) (65.6.3)\n",
      "Requirement already satisfied: jedi>=0.16 in c:\\users\\lenovo\\anaconda3\\lib\\site-packages (from ipython>=4.0.0->ipywidgets) (0.18.1)\n",
      "Requirement already satisfied: pygments in c:\\users\\lenovo\\anaconda3\\lib\\site-packages (from ipython>=4.0.0->ipywidgets) (2.11.2)\n",
      "Requirement already satisfied: colorama in c:\\users\\lenovo\\anaconda3\\lib\\site-packages (from ipython>=4.0.0->ipywidgets) (0.4.6)\n",
      "Requirement already satisfied: pickleshare in c:\\users\\lenovo\\anaconda3\\lib\\site-packages (from ipython>=4.0.0->ipywidgets) (0.7.5)\n",
      "Requirement already satisfied: prompt-toolkit!=3.0.0,!=3.0.1,<3.1.0,>=2.0.0 in c:\\users\\lenovo\\anaconda3\\lib\\site-packages (from ipython>=4.0.0->ipywidgets) (3.0.36)\n",
      "Requirement already satisfied: backcall in c:\\users\\lenovo\\anaconda3\\lib\\site-packages (from ipython>=4.0.0->ipywidgets) (0.2.0)\n",
      "Requirement already satisfied: jupyter-core in c:\\users\\lenovo\\anaconda3\\lib\\site-packages (from nbformat>=4.2.0->ipywidgets) (4.11.2)\n",
      "Requirement already satisfied: jsonschema>=2.6 in c:\\users\\lenovo\\anaconda3\\lib\\site-packages (from nbformat>=4.2.0->ipywidgets) (4.17.3)\n",
      "Requirement already satisfied: importlib-metadata>=3.6 in c:\\users\\lenovo\\anaconda3\\lib\\site-packages (from nbformat>=4.2.0->ipywidgets) (4.11.3)\n",
      "Requirement already satisfied: fastjsonschema in c:\\users\\lenovo\\anaconda3\\lib\\site-packages (from nbformat>=4.2.0->ipywidgets) (2.16.2)\n",
      "Requirement already satisfied: notebook>=4.4.1 in c:\\users\\lenovo\\anaconda3\\lib\\site-packages (from widgetsnbextension~=3.5.0->ipywidgets) (6.5.2)\n",
      "Requirement already satisfied: typing-extensions>=3.6.4 in c:\\users\\lenovo\\anaconda3\\lib\\site-packages (from importlib-metadata>=3.6->nbformat>=4.2.0->ipywidgets) (4.1.1)\n",
      "Requirement already satisfied: zipp>=0.5 in c:\\users\\lenovo\\anaconda3\\lib\\site-packages (from importlib-metadata>=3.6->nbformat>=4.2.0->ipywidgets) (3.11.0)\n",
      "Requirement already satisfied: parso<0.9.0,>=0.8.0 in c:\\users\\lenovo\\anaconda3\\lib\\site-packages (from jedi>=0.16->ipython>=4.0.0->ipywidgets) (0.8.3)\n",
      "Requirement already satisfied: attrs>=17.4.0 in c:\\users\\lenovo\\anaconda3\\lib\\site-packages (from jsonschema>=2.6->nbformat>=4.2.0->ipywidgets) (22.1.0)\n",
      "Requirement already satisfied: pyrsistent!=0.17.0,!=0.17.1,!=0.17.2,>=0.14.0 in c:\\users\\lenovo\\anaconda3\\lib\\site-packages (from jsonschema>=2.6->nbformat>=4.2.0->ipywidgets) (0.18.0)\n",
      "Requirement already satisfied: importlib-resources>=1.4.0 in c:\\users\\lenovo\\anaconda3\\lib\\site-packages (from jsonschema>=2.6->nbformat>=4.2.0->ipywidgets) (5.2.0)\n",
      "Requirement already satisfied: pkgutil-resolve-name>=1.3.10 in c:\\users\\lenovo\\anaconda3\\lib\\site-packages (from jsonschema>=2.6->nbformat>=4.2.0->ipywidgets) (1.3.10)\n",
      "Requirement already satisfied: entrypoints in c:\\users\\lenovo\\anaconda3\\lib\\site-packages (from jupyter-client>=6.1.12->ipykernel>=4.5.1->ipywidgets) (0.4)\n",
      "Requirement already satisfied: python-dateutil>=2.8.2 in c:\\users\\lenovo\\anaconda3\\lib\\site-packages (from jupyter-client>=6.1.12->ipykernel>=4.5.1->ipywidgets) (2.8.2)\n",
      "Requirement already satisfied: pywin32>=1.0 in c:\\users\\lenovo\\anaconda3\\lib\\site-packages (from jupyter-core->nbformat>=4.2.0->ipywidgets) (305.1)\n",
      "Requirement already satisfied: nbclassic>=0.4.7 in c:\\users\\lenovo\\anaconda3\\lib\\site-packages (from notebook>=4.4.1->widgetsnbextension~=3.5.0->ipywidgets) (0.5.2)\n",
      "Requirement already satisfied: argon2-cffi in c:\\users\\lenovo\\anaconda3\\lib\\site-packages (from notebook>=4.4.1->widgetsnbextension~=3.5.0->ipywidgets) (20.1.0)\n",
      "Requirement already satisfied: Send2Trash>=1.8.0 in c:\\users\\lenovo\\anaconda3\\lib\\site-packages (from notebook>=4.4.1->widgetsnbextension~=3.5.0->ipywidgets) (1.8.0)\n",
      "Requirement already satisfied: jinja2 in c:\\users\\lenovo\\anaconda3\\lib\\site-packages (from notebook>=4.4.1->widgetsnbextension~=3.5.0->ipywidgets) (3.1.2)\n",
      "Requirement already satisfied: nbconvert>=5 in c:\\users\\lenovo\\anaconda3\\lib\\site-packages (from notebook>=4.4.1->widgetsnbextension~=3.5.0->ipywidgets) (6.4.4)\n",
      "Requirement already satisfied: prometheus-client in c:\\users\\lenovo\\anaconda3\\lib\\site-packages (from notebook>=4.4.1->widgetsnbextension~=3.5.0->ipywidgets) (0.14.1)\n",
      "Requirement already satisfied: terminado>=0.8.3 in c:\\users\\lenovo\\anaconda3\\lib\\site-packages (from notebook>=4.4.1->widgetsnbextension~=3.5.0->ipywidgets) (0.17.1)\n",
      "Requirement already satisfied: wcwidth in c:\\users\\lenovo\\anaconda3\\lib\\site-packages (from prompt-toolkit!=3.0.0,!=3.0.1,<3.1.0,>=2.0.0->ipython>=4.0.0->ipywidgets) (0.2.5)\n",
      "Requirement already satisfied: notebook-shim>=0.1.0 in c:\\users\\lenovo\\anaconda3\\lib\\site-packages (from nbclassic>=0.4.7->notebook>=4.4.1->widgetsnbextension~=3.5.0->ipywidgets) (0.2.2)\n",
      "Requirement already satisfied: jupyter-server>=1.8 in c:\\users\\lenovo\\anaconda3\\lib\\site-packages (from nbclassic>=0.4.7->notebook>=4.4.1->widgetsnbextension~=3.5.0->ipywidgets) (1.23.4)\n",
      "Requirement already satisfied: mistune<2,>=0.8.1 in c:\\users\\lenovo\\anaconda3\\lib\\site-packages (from nbconvert>=5->notebook>=4.4.1->widgetsnbextension~=3.5.0->ipywidgets) (0.8.4)\n",
      "Requirement already satisfied: testpath in c:\\users\\lenovo\\anaconda3\\lib\\site-packages (from nbconvert>=5->notebook>=4.4.1->widgetsnbextension~=3.5.0->ipywidgets) (0.6.0)\n",
      "Requirement already satisfied: defusedxml in c:\\users\\lenovo\\anaconda3\\lib\\site-packages (from nbconvert>=5->notebook>=4.4.1->widgetsnbextension~=3.5.0->ipywidgets) (0.7.1)\n",
      "Requirement already satisfied: jupyterlab-pygments in c:\\users\\lenovo\\anaconda3\\lib\\site-packages (from nbconvert>=5->notebook>=4.4.1->widgetsnbextension~=3.5.0->ipywidgets) (0.1.2)\n",
      "Requirement already satisfied: beautifulsoup4 in c:\\users\\lenovo\\anaconda3\\lib\\site-packages (from nbconvert>=5->notebook>=4.4.1->widgetsnbextension~=3.5.0->ipywidgets) (4.11.1)\n",
      "Requirement already satisfied: pandocfilters>=1.4.1 in c:\\users\\lenovo\\anaconda3\\lib\\site-packages (from nbconvert>=5->notebook>=4.4.1->widgetsnbextension~=3.5.0->ipywidgets) (1.5.0)\n",
      "Requirement already satisfied: nbclient<0.6.0,>=0.5.0 in c:\\users\\lenovo\\anaconda3\\lib\\site-packages (from nbconvert>=5->notebook>=4.4.1->widgetsnbextension~=3.5.0->ipywidgets) (0.5.13)\n",
      "Requirement already satisfied: bleach in c:\\users\\lenovo\\anaconda3\\lib\\site-packages (from nbconvert>=5->notebook>=4.4.1->widgetsnbextension~=3.5.0->ipywidgets) (4.1.0)\n",
      "Requirement already satisfied: MarkupSafe>=2.0 in c:\\users\\lenovo\\anaconda3\\lib\\site-packages (from jinja2->notebook>=4.4.1->widgetsnbextension~=3.5.0->ipywidgets) (2.1.1)\n",
      "Requirement already satisfied: six>=1.5 in c:\\users\\lenovo\\anaconda3\\lib\\site-packages (from python-dateutil>=2.8.2->jupyter-client>=6.1.12->ipykernel>=4.5.1->ipywidgets) (1.16.0)\n",
      "Requirement already satisfied: pywinpty>=1.1.0 in c:\\users\\lenovo\\anaconda3\\lib\\site-packages (from terminado>=0.8.3->notebook>=4.4.1->widgetsnbextension~=3.5.0->ipywidgets) (2.0.10)\n",
      "Requirement already satisfied: cffi>=1.0.0 in c:\\users\\lenovo\\anaconda3\\lib\\site-packages (from argon2-cffi->notebook>=4.4.1->widgetsnbextension~=3.5.0->ipywidgets) (1.15.1)\n",
      "Requirement already satisfied: pycparser in c:\\users\\lenovo\\anaconda3\\lib\\site-packages (from cffi>=1.0.0->argon2-cffi->notebook>=4.4.1->widgetsnbextension~=3.5.0->ipywidgets) (2.21)\n",
      "Requirement already satisfied: anyio<4,>=3.1.0 in c:\\users\\lenovo\\anaconda3\\lib\\site-packages (from jupyter-server>=1.8->nbclassic>=0.4.7->notebook>=4.4.1->widgetsnbextension~=3.5.0->ipywidgets) (3.5.0)\n",
      "Requirement already satisfied: websocket-client in c:\\users\\lenovo\\anaconda3\\lib\\site-packages (from jupyter-server>=1.8->nbclassic>=0.4.7->notebook>=4.4.1->widgetsnbextension~=3.5.0->ipywidgets) (0.58.0)\n",
      "Requirement already satisfied: soupsieve>1.2 in c:\\users\\lenovo\\anaconda3\\lib\\site-packages (from beautifulsoup4->nbconvert>=5->notebook>=4.4.1->widgetsnbextension~=3.5.0->ipywidgets) (2.3.2.post1)\n",
      "Requirement already satisfied: webencodings in c:\\users\\lenovo\\anaconda3\\lib\\site-packages (from bleach->nbconvert>=5->notebook>=4.4.1->widgetsnbextension~=3.5.0->ipywidgets) (0.5.1)\n",
      "Requirement already satisfied: sniffio>=1.1 in c:\\users\\lenovo\\anaconda3\\lib\\site-packages (from anyio<4,>=3.1.0->jupyter-server>=1.8->nbclassic>=0.4.7->notebook>=4.4.1->widgetsnbextension~=3.5.0->ipywidgets) (1.2.0)\n",
      "Requirement already satisfied: idna>=2.8 in c:\\users\\lenovo\\anaconda3\\lib\\site-packages (from anyio<4,>=3.1.0->jupyter-server>=1.8->nbclassic>=0.4.7->notebook>=4.4.1->widgetsnbextension~=3.5.0->ipywidgets) (3.4)\n"
     ]
    }
   ],
   "source": [
    "#!pip install nltk\n",
    "#!pip install seqeval\n",
    "#!pip install ipywidgets"
   ]
  },
  {
   "cell_type": "code",
   "execution_count": 15,
   "metadata": {
    "id": "EFXKWyO0q3EA"
   },
   "outputs": [],
   "source": [
    "import nltk\n",
    "import seqeval\n",
    "from seqeval.metrics import classification_report, f1_score"
   ]
  },
  {
   "cell_type": "markdown",
   "metadata": {
    "id": "fUqJ2UNZhRDx"
   },
   "source": [
    "## Named Entity Recognition (NER)\n",
    "\n",
    "[NER](https://en.wikipedia.org/wiki/Named-entity_recognition) is a Natural Language Processing (NLP) task that consists in \n",
    "  identifying and classifying names of entities (people, location, companies, among others) in a given sentence.\n",
    "For instance, given the following sentence:\n",
    "\n",
    "```\n",
    "Jim bought 300 shares of Acme Corp. in 2006.\n",
    "```\n",
    "\n",
    "a NER system should identify and classify the three named entities as in the following:\n",
    "\n",
    "<font color='blue'>[Jim]<sub>Person</sub></font> bought \n",
    "300 shares of \n",
    "<font color='red'>[Acme Corp.]<sub>Organization</sub></font> in \n",
    "<font color='green'>[2006]<sub>Time</sub></font>.\n",
    "\n",
    "\n"
   ]
  },
  {
   "cell_type": "markdown",
   "metadata": {
    "id": "s4zAKA2wyHbX"
   },
   "source": [
    "### IOB Tagging Format\n",
    "In order to cast NER as a sequence tagging problem, we usually make use of the [IOB Tagging Scheme](https://en.wikipedia.org/wiki/Inside%E2%80%93outside%E2%80%93beginning_(tagging)).\n",
    "In this scheme, one *IOB tag* is attributed to each token (a token is a word or a puctuation mark) in the input sentence.\n",
    "\n",
    "Jim | bought | 300 | shares | of | Acme | Corp. | in | 2006 | .\n",
    "---|---|---|---|---|---|---|---|---|---\n",
    "`I-PER` | `O` | `O` | `O` | `O` | `I-ORG` | `I-ORG` | `O` | `I-TIME` | `O`\n",
    "\n",
    "As you can see, each tag identifies the type of the corresponding entity.\n",
    "The tags `I-<type>` indicates that a token is *inside* an entity of type `<type>`.\n",
    "Additionally, there is the *out* tag `O` indicating that the token is not part of any entity.\n",
    "Usually, consecutive tokens classified with the same type are considered part of the same entity.\n",
    "When there are two consecutive tokens that are part of two different entities but of the same type, we need to use a *begin* tag `B-<type>`. There is one `B-<type>` tag for each entity type.\n",
    "Such tags indicate the first token of an entity\n",
    "  when the previous token is part of another entity of the same type.\n",
    "See the [Wikipedia article](https://en.wikipedia.org/wiki/Inside%E2%80%93outside%E2%80%93beginning_(tagging)) for more details.\n"
   ]
  },
  {
   "cell_type": "markdown",
   "metadata": {
    "id": "7DEA-8Eg3gHu"
   },
   "source": [
    "### CoNLL-2003 Dataset\n",
    "\n",
    "The CoNLL-2003 dataset is one of the most used datasets for NER.\n",
    "In the following, we show a snnipet of this dataset.\n",
    "\n",
    "```\n",
    "-DOCSTART- -X- -X- O\n",
    "\n",
    "EU NNP I-NP I-ORG\n",
    "rejects VBZ I-VP O\n",
    "German JJ I-NP I-MISC\n",
    "call NN I-NP O\n",
    "to TO I-VP O\n",
    "boycott VB I-VP O\n",
    "British JJ I-NP I-MISC\n",
    "lamb NN I-NP O\n",
    ". . O O\n",
    "\n",
    "Peter NNP I-NP I-PER\n",
    "Blackburn NNP I-NP I-PER\n",
    "\n",
    "(...)\n",
    "\n",
    "-DOCSTART- -X- -X- O\n",
    "\n",
    "Rare NNP I-NP O\n",
    "Hendrix NNP I-NP I-PER\n",
    "song NN I-NP O\n",
    "\n",
    "(...)\n",
    "\n",
    "```\n",
    "\n",
    "Each line contains a token.\n",
    "An empty line is used to separate sentences.\n",
    "A line containing `-DOCSTART- -X- -X- O` is used to separate documents (for NER, usually, we disregard these document boundaries).\n",
    "Each token contains four features separated by space:\n",
    "```\n",
    "word pos_tag chunk_tag ner_tag\n",
    "```\n",
    "The first feature `word` contains the string of the token (word or punctuation mark).\n",
    "The second feature `pos_tag` indicates the part-of-speech of the token.\n",
    "The third feature `chunk_tag` encodes chunking information (phrases).\n",
    "And, finally, the last feature `ner_tag` comprises the NER annotations using IOB tagging scheme."
   ]
  },
  {
   "cell_type": "markdown",
   "metadata": {
    "id": "gCCyYAEZhWJH"
   },
   "source": [
    "### Training and Evaluation Data\n",
    "The CoNLL-2003 dataset is split into three parts: train, testa and testb.\n",
    "The `train` split is obviously used to model training and the remaining two splits are used for model selection and testing.\n",
    "We will use the `testa` split to evaluate our models."
   ]
  },
  {
   "cell_type": "code",
   "execution_count": 31,
   "metadata": {
    "colab": {
     "base_uri": "https://localhost:8080/"
    },
    "executionInfo": {
     "elapsed": 1139,
     "status": "ok",
     "timestamp": 1653053639508,
     "user": {
      "displayName": "Eraldo Fernandes",
      "userId": "09824487528840751991"
     },
     "user_tz": -120
    },
    "id": "lE2cHwksAKro",
    "outputId": "05abd8f2-02ad-4960-9ff9-177b255c4525"
   },
   "outputs": [
    {
     "name": "stdout",
     "output_type": "stream",
     "text": [
      "100% [............................................................................] 827443 / 827443"
     ]
    }
   ],
   "source": [
    "# # download train and dev files\n",
    "eng_train=wget.download('https://raw.githubusercontent.com/patverga/torch-ner-nlp-from-scratch/master/data/conll2003/eng.train')\n",
    "eng_testa=wget.download ('https://raw.githubusercontent.com/patverga/torch-ner-nlp-from-scratch/master/data/conll2003/eng.testa')"
   ]
  },
  {
   "cell_type": "markdown",
   "metadata": {
    "id": "YZ-lOHA0hC-v"
   },
   "source": [
    "## Encoder\n",
    "\n",
    "Define a simple class to encode symbols \n",
    "  (tags and observation features) as integers (IDs).\n",
    "Basically, we use two entangled data structures: \n",
    "  a dictionary (symbol -> ID) \n",
    "  and a list (Id -> symbol).\n",
    "\n",
    "Then, we can represent the CRF parameters as arrays and matrices indexed by integers (IDs) instead of strings.\n",
    "But, at the same time, we can keep the mapping between symbol name (string) and its ID (integer)."
   ]
  },
  {
   "cell_type": "code",
   "execution_count": 26,
   "metadata": {
    "id": "oBpxW2TUhC-y"
   },
   "outputs": [],
   "source": [
    "class Encoder:\n",
    "    \"\"\"Encode a set of N symbols (strings) into integer IDs from {0, 1, ..., N-1}\n",
    "\n",
    "    The encoder can be frozen at some point and then no new symbol can be added.\n",
    "    When a frozen encoder gets a request for an unknown symbol, it raises an \n",
    "    exception.\n",
    "    \"\"\"\n",
    "    \n",
    "    def __init__(self, symbols: list = None, frozen: bool = False):\n",
    "        \"\"\"Create a new encoder with optional list of symbols.\n",
    "\n",
    "        Args:\n",
    "            symbols (list[str]): list of symbols (default is None)\n",
    "            frozen (bool): whether the encoder includes new symbols passed to method `get_id(s)` (default is False)\n",
    "        \"\"\"\n",
    "        self.symbol_to_id: dict[str, int] = {}\n",
    "        self.id_to_symbol: list[str] = []\n",
    "        self.frozen: bool = False\n",
    "        \n",
    "        if symbols is not None:\n",
    "            for s in symbols:\n",
    "                self.get_id(s)\n",
    "        \n",
    "        if frozen:\n",
    "            self.frozen = True\n",
    "    \n",
    "    def get_id(self, s: str) -> int:\n",
    "        \"\"\"return the ID (integer) corresponding to symbols `s`.\n",
    "\n",
    "        If symbols `s` has not been encoded already and `self.frozen == False`,\n",
    "        then include `s` in the mapping, assign a new ID for it, and return it.\n",
    "        If symbols `s` has not been encoded already and `self.frozen == True`,\n",
    "        raise an exception.\n",
    "\n",
    "        Args:\n",
    "            s (str): symbol to be encoded\n",
    "\n",
    "        Returns:\n",
    "            int: ID of the encoded symbol\n",
    "        \"\"\"\n",
    "        if s not in self.symbol_to_id:\n",
    "            if self.frozen:\n",
    "                raise ValueError(f'Symbol {s} not in frozen encoder {self}')\n",
    "            \n",
    "            new_id = len(self.id_to_symbol)\n",
    "            self.symbol_to_id[s] = new_id\n",
    "            self.id_to_symbol.append(s)\n",
    "            return new_id\n",
    "        \n",
    "        return self.symbol_to_id[s]\n",
    "    \n",
    "    def get_symbol(self, id: int) -> str:\n",
    "        \"\"\"return the symbols associated with `id`\n",
    "\n",
    "        Args:\n",
    "            id (int): ID of the symbol\n",
    "        \n",
    "        Returns:\n",
    "            str: the symbol associated with the given ID\n",
    "        \"\"\"\n",
    "        return self.id_to_symbol[id]\n",
    "    \n",
    "    def __repr__(self):\n",
    "        return f'Encoder: {self.symbol_to_id}'\n",
    "    \n",
    "    def __len__(self):\n",
    "        return len(self.id_to_symbol)"
   ]
  },
  {
   "cell_type": "code",
   "execution_count": 27,
   "metadata": {
    "id": "sl74kPKKhkfl"
   },
   "outputs": [],
   "source": [
    "# we use one encoder for all observation features\n",
    "x_enc = Encoder()\n",
    "# encoder for tags\n",
    "y_enc = Encoder()"
   ]
  },
  {
   "cell_type": "markdown",
   "metadata": {
    "id": "0-_3n2_ejRW7"
   },
   "source": [
    "## Encode a Sentence\n",
    "When working with an HMM, \n",
    "  we created a function to encode a token \n",
    "  because this model can only deal with one observation per token.\n",
    "However, now that we are going to work with a CRF model, \n",
    "  for a given token $x_t$, \n",
    "  we can define observation features \n",
    "  $\\boldsymbol\\phi^{obs}(x, y_t)=(\\phi^{obs}_1(x, y_t), \\ldots, \\phi^{obs}_{d_{obs}}(x, y_t))$ \n",
    "  that are, in fact, based on the whole sentence \n",
    "  $x=(x_1,\\ldots,x_T)$ and not only on $x_t$.\n",
    "So we implement below a function that encode a whole sentence.\n",
    "\n",
    "The given sentence is a sequence of tokens\n",
    "  and each token comprises \n",
    "  the word,\n",
    "  the POS tag,\n",
    "  the chunking tag,\n",
    "  and the NER tag \n",
    "  (as given in the CoNLL corpus).\n",
    "The NER tag is the target variable $y_t$.\n",
    "The remaining information pieces can be used to generate observation features."
   ]
  },
  {
   "cell_type": "code",
   "execution_count": 28,
   "metadata": {
    "id": "iJ_IPk1sDP13"
   },
   "outputs": [],
   "source": [
    "def encode_sentence(sentence):\n",
    "    \"\"\"Encode a sentence composed of token features and NER tags into integer features.\n",
    "\n",
    "    Args:\n",
    "        sentence (list[tuple[str, str, str, str]]): list of tokens with features.\n",
    "            Each token must be a tuple `(word, pos, ck, ner)`, where `word` is \n",
    "            the word, `pos` is the POS tag of the token, `ck` is the chunking \n",
    "            tag, and `ner` is the NER tag. This tuple comes from the CoNLL corpus.\n",
    "    Returns:\n",
    "        tuple[list[list[int]], list[int]]: two lists containing the encoded \n",
    "        features and NER tags for each token. Each token comprises a list of \n",
    "        encoded features.\n",
    "    \"\"\"\n",
    "    x = []\n",
    "    y = []\n",
    "    for t in range(len(sentence)):\n",
    "        # each token must comprise four features: word, pos, ck, ner\n",
    "        word, pos, ck, ner = sentence[t]\n",
    "        if t >= 1:\n",
    "            prev_word, prev_pos, prev_ck, prev_ner = sentence[t-1]\n",
    "        else:\n",
    "            prev_word, prev_pos, prev_ck, prev_ner = \"PAD\", \"PAD\", \"PAD\", \"PAD\"\n",
    "\n",
    "        # we can derive any features from the whole input sentence to represent\n",
    "        # the t-th token\n",
    "        token_ftrs = \\\n",
    "            [\n",
    "             f'word={word.lower()}',\n",
    "             f'word={word.lower()}_AND_prev_word={prev_word.lower()}',\n",
    "            #  f'is_first_letter_upper_{word[0].isupper()}', \n",
    "            #  f'POS={pos}'\n",
    "            # TODO think about other features and try different combinations\n",
    "            ]\n",
    "\n",
    "        # encode the features and store them\n",
    "        x.append([x_enc.get_id(ftr) for ftr in token_ftrs])\n",
    "        # encode tag\n",
    "        y.append(y_enc.get_id(ner))\n",
    "    \n",
    "    return x, y"
   ]
  },
  {
   "cell_type": "markdown",
   "metadata": {
    "id": "UnKX1vTOj85S"
   },
   "source": [
    "The function below iterate over a CoNLL file (train or evaluation), \n",
    "  encode each word and its NER tag, \n",
    "  and return two lists: `xs` and `ys`.\n",
    "Each element in `xs` comprises a sentence of the dataset \n",
    "  (list of features for each token).\n",
    "And each element in `ys` comprises the corresponding sequence of tags."
   ]
  },
  {
   "cell_type": "code",
   "execution_count": 29,
   "metadata": {
    "id": "6LvvOrABAVEZ"
   },
   "outputs": [],
   "source": [
    "def load_examples(file):\n",
    "    xs = []\n",
    "    ys = []\n",
    "    with open(file) as f:\n",
    "        sentence = []\n",
    "        for line in f:\n",
    "            if len(line.strip()) == 0:\n",
    "                # a blank line separates sentences\n",
    "                if len(sentence) > 0:\n",
    "                    # end of a sentence\n",
    "                    x, y = encode_sentence(sentence)\n",
    "                    xs.append(x)\n",
    "                    ys.append(y)\n",
    "                    sentence = []\n",
    "            elif line.startswith('-DOCSTART-'):\n",
    "                # start of a new document (ignore document boundaries)\n",
    "                pass\n",
    "            else:\n",
    "                # a token contains four fields (separated by space):\n",
    "                # word, POS tag, noun-phrase tag, and NER tag\n",
    "                sentence.append(line.split())\n",
    "    \n",
    "    return xs, ys"
   ]
  },
  {
   "cell_type": "markdown",
   "metadata": {
    "id": "CG26Yy7Hkj-E"
   },
   "source": [
    "Load traind and evaluation (dev) datasets."
   ]
  },
  {
   "cell_type": "code",
   "execution_count": 32,
   "metadata": {
    "id": "RgxzSm0ZFNYD"
   },
   "outputs": [],
   "source": [
    "x_train, y_train = load_examples('eng.train')\n",
    "x_dev, y_dev = load_examples('eng.testa')"
   ]
  },
  {
   "cell_type": "markdown",
   "metadata": {
    "id": "Qbs8pVXrwqkP"
   },
   "source": [
    "Freeze the encoders to avoid bugs."
   ]
  },
  {
   "cell_type": "code",
   "execution_count": 33,
   "metadata": {
    "id": "PJHRCdvcwtym"
   },
   "outputs": [],
   "source": [
    "x_enc.frozen = True\n",
    "y_enc.frozen = True"
   ]
  },
  {
   "cell_type": "markdown",
   "metadata": {
    "id": "9AI1Sq_dkrc-"
   },
   "source": [
    "Number of sentences in each dataset."
   ]
  },
  {
   "cell_type": "code",
   "execution_count": 34,
   "metadata": {
    "colab": {
     "base_uri": "https://localhost:8080/"
    },
    "executionInfo": {
     "elapsed": 47,
     "status": "ok",
     "timestamp": 1653062133273,
     "user": {
      "displayName": "Eraldo Fernandes",
      "userId": "09824487528840751991"
     },
     "user_tz": -120
    },
    "id": "oFCX-DtTWlmx",
    "outputId": "00ea1f7e-cec9-43cd-e366-12bc6d860cb1"
   },
   "outputs": [
    {
     "name": "stdout",
     "output_type": "stream",
     "text": [
      "# train exs: 14041\n",
      "# dev exs: 3250\n"
     ]
    }
   ],
   "source": [
    "print(f'# train exs: {len(x_train)}')\n",
    "print(f'# dev exs: {len(x_dev)}')"
   ]
  },
  {
   "cell_type": "markdown",
   "metadata": {
    "id": "b1i_ggm0kxFt"
   },
   "source": [
    "Number of unique words in the datasets."
   ]
  },
  {
   "cell_type": "code",
   "execution_count": 35,
   "metadata": {
    "colab": {
     "base_uri": "https://localhost:8080/"
    },
    "executionInfo": {
     "elapsed": 42,
     "status": "ok",
     "timestamp": 1653062133273,
     "user": {
      "displayName": "Eraldo Fernandes",
      "userId": "09824487528840751991"
     },
     "user_tz": -120
    },
    "id": "MQtLCzOdILy3",
    "outputId": "04c24ae1-2888-4c7b-81c7-1fdbc78e3ee5"
   },
   "outputs": [
    {
     "name": "stdout",
     "output_type": "stream",
     "text": [
      "# unique x: 147543\n"
     ]
    }
   ],
   "source": [
    "print(f'# unique x: {len(x_enc)}')"
   ]
  },
  {
   "cell_type": "markdown",
   "metadata": {
    "id": "cntTJQuEk3NY"
   },
   "source": [
    "Number of tags."
   ]
  },
  {
   "cell_type": "code",
   "execution_count": 36,
   "metadata": {
    "colab": {
     "base_uri": "https://localhost:8080/"
    },
    "executionInfo": {
     "elapsed": 36,
     "status": "ok",
     "timestamp": 1653062133275,
     "user": {
      "displayName": "Eraldo Fernandes",
      "userId": "09824487528840751991"
     },
     "user_tz": -120
    },
    "id": "iyjOWeJTIRKm",
    "outputId": "1bd0d3a3-582b-4861-b187-32d28bd9a5d2"
   },
   "outputs": [
    {
     "name": "stdout",
     "output_type": "stream",
     "text": [
      "# unique y: 8\n"
     ]
    }
   ],
   "source": [
    "print(f'# unique y: {len(y_enc)}')"
   ]
  },
  {
   "cell_type": "markdown",
   "metadata": {
    "id": "elHzph4dlMNZ"
   },
   "source": [
    "Visualize the tags and their corresponding IDs."
   ]
  },
  {
   "cell_type": "code",
   "execution_count": 37,
   "metadata": {
    "colab": {
     "base_uri": "https://localhost:8080/"
    },
    "executionInfo": {
     "elapsed": 25,
     "status": "ok",
     "timestamp": 1653062133277,
     "user": {
      "displayName": "Eraldo Fernandes",
      "userId": "09824487528840751991"
     },
     "user_tz": -120
    },
    "id": "W_L1XhCsIS3f",
    "outputId": "bcd7f164-c5ba-4120-ab7a-587eb1c019ad"
   },
   "outputs": [
    {
     "data": {
      "text/plain": [
       "Encoder: {'I-ORG': 0, 'O': 1, 'I-MISC': 2, 'I-PER': 3, 'I-LOC': 4, 'B-LOC': 5, 'B-MISC': 6, 'B-ORG': 7}"
      ]
     },
     "execution_count": 37,
     "metadata": {},
     "output_type": "execute_result"
    }
   ],
   "source": [
    "y_enc"
   ]
  },
  {
   "cell_type": "code",
   "execution_count": 38,
   "metadata": {
    "colab": {
     "base_uri": "https://localhost:8080/"
    },
    "executionInfo": {
     "elapsed": 1297,
     "status": "ok",
     "timestamp": 1653062134561,
     "user": {
      "displayName": "Eraldo Fernandes",
      "userId": "09824487528840751991"
     },
     "user_tz": -120
    },
    "id": "FpgYDnWVg2gr",
    "outputId": "454f70be-a213-49d0-ae91-f95abe7c40b3"
   },
   "outputs": [
    {
     "data": {
      "text/plain": [
       "147543"
      ]
     },
     "execution_count": 38,
     "metadata": {},
     "output_type": "execute_result"
    }
   ],
   "source": [
    "len(x_enc)"
   ]
  },
  {
   "cell_type": "code",
   "execution_count": 39,
   "metadata": {},
   "outputs": [
    {
     "data": {
      "text/plain": [
       "('word=eu',\n",
       " 'word=eu_AND_prev_word=pad',\n",
       " 'word=rejects',\n",
       " 'word=rejects_AND_prev_word=eu')"
      ]
     },
     "execution_count": 39,
     "metadata": {},
     "output_type": "execute_result"
    }
   ],
   "source": [
    "x_enc.get_symbol(0), x_enc.get_symbol(1), x_enc.get_symbol(2), x_enc.get_symbol(3), "
   ]
  },
  {
   "cell_type": "markdown",
   "metadata": {
    "id": "rwI3HF7Yle1R"
   },
   "source": [
    "Distribution of the tags.\n",
    "We can already see an issue with NER: the output tag `O` is much more frequent than all other tags."
   ]
  },
  {
   "cell_type": "code",
   "execution_count": 40,
   "metadata": {
    "colab": {
     "base_uri": "https://localhost:8080/",
     "height": 287
    },
    "executionInfo": {
     "elapsed": 183,
     "status": "ok",
     "timestamp": 1653062134562,
     "user": {
      "displayName": "Eraldo Fernandes",
      "userId": "09824487528840751991"
     },
     "user_tz": -120
    },
    "id": "Hux3D_j0WAtU",
    "outputId": "1a0b60d3-bb3b-4ad2-97f1-0fa6749dee6a"
   },
   "outputs": [
    {
     "data": {
      "image/png": "[encoded data removed]",
      "text/plain": [
       "<Figure size 640x480 with 1 Axes>"
      ]
     },
     "metadata": {},
     "output_type": "display_data"
    }
   ],
   "source": [
    "_ = plt.hist([y_enc.get_symbol(y) for y_seq in y_train for y in y_seq], bins=range(len(y_enc)+1), align='left', density=True)\n",
    "_ = plt.xticks(rotation=45)"
   ]
  },
  {
   "cell_type": "markdown",
   "metadata": {
    "id": "SqAy_9c06eoI"
   },
   "source": [
    "So let us have a look at the distribution of tags ignoring the `O` tag.\n",
    "Now, we have another issue because the `B-<type>` tags are also very rare when compared to the `I-<type>` tags."
   ]
  },
  {
   "cell_type": "code",
   "execution_count": 41,
   "metadata": {
    "colab": {
     "base_uri": "https://localhost:8080/",
     "height": 287
    },
    "executionInfo": {
     "elapsed": 176,
     "status": "ok",
     "timestamp": 1653062134562,
     "user": {
      "displayName": "Eraldo Fernandes",
      "userId": "09824487528840751991"
     },
     "user_tz": -120
    },
    "id": "U9a-wnAO6Swc",
    "outputId": "14aa7baa-d05d-4386-e54a-9d8c20f9573d"
   },
   "outputs": [
    {
     "data": {
      "image/png": "[encoded data removed]",
      "text/plain": [
       "<Figure size 640x480 with 1 Axes>"
      ]
     },
     "metadata": {},
     "output_type": "display_data"
    }
   ],
   "source": [
    "_ = plt.hist([y_enc.get_symbol(y) for y_seq in y_train for y in y_seq if y != y_enc.get_id('O')], bins=range(len(y_enc)+1), align='left', density=True)\n",
    "_ = plt.xticks(rotation=45)"
   ]
  },
  {
   "cell_type": "code",
   "execution_count": 42,
   "metadata": {
    "colab": {
     "base_uri": "https://localhost:8080/"
    },
    "executionInfo": {
     "elapsed": 174,
     "status": "ok",
     "timestamp": 1653062134562,
     "user": {
      "displayName": "Eraldo Fernandes",
      "userId": "09824487528840751991"
     },
     "user_tz": -120
    },
    "id": "28ZiwLZMxCAe",
    "outputId": "e049cf5e-70f1-4e1e-900c-8c3b57a36f8b"
   },
   "outputs": [
    {
     "name": "stdout",
     "output_type": "stream",
     "text": [
      "{'I-ORG': 0.04911575918004528, 'O': 0.832811939829389, 'I-MISC': 0.02237490239218941, 'I-PER': 0.05465055176037835, 'I-LOC': 0.040693248731712345, 'B-LOC': 5.402193290475933e-05, 'B-MISC': 0.0001817101379523723, 'B-ORG': 0.00011786603542856582}\n"
     ]
    }
   ],
   "source": [
    "from collections import Counter\n",
    "\n",
    "counter = Counter([y_enc.get_symbol(y) for y_seq in y_train for y in y_seq])\n",
    "total = sum(counter.values())\n",
    "print({tag: count/total for tag, count in counter.items()})"
   ]
  },
  {
   "cell_type": "markdown",
   "metadata": {
    "id": "OqwssMMa0w70"
   },
   "source": [
    "## CRF Model Parameters\n",
    "\n",
    "In the following, we define a class to store three sets of parameters of a CRF model: \n",
    "  start tag ($w^{start} \\in \\mathbb R^N$), \n",
    "  tag transition ($w^{trans} \\in \\mathbb R^{N \\times N}$), \n",
    "  and observation feature ($w^{obs} \\in \\mathbb R^{N \\times M}$).\n",
    "Just as in HMM, each observation feature needs to be crossed against all possible tags, \n",
    "  because the CRF model needs to learn a parameter for each feature-tag pair.\n",
    "For instance, if we have a feature `word=that`,\n",
    "  we need to learn an observation parameter $w^{obs}_{i,\\mathtt{word=that}}$ \n",
    "  for each tag $i \\in \\{1,\\ldots,N\\}$.\n",
    "That is why we have $N \\times M$ observation parameters."
   ]
  },
  {
   "cell_type": "code",
   "execution_count": 43,
   "metadata": {
    "id": "zN8zn1IotSek"
   },
   "outputs": [],
   "source": [
    "class CrfModel:\n",
    "    def __init__(self, num_states, num_observations):\n",
    "        self.num_states = num_states\n",
    "        self.num_observations = num_observations\n",
    "\n",
    "        self.w_start = np.zeros((num_states))\n",
    "        self.w_trans = np.zeros((num_states, num_states))\n",
    "        self.w_obs = np.zeros((num_states, num_observations))"
   ]
  },
  {
   "cell_type": "markdown",
   "metadata": {
    "id": "qxVkudaJrSP1"
   },
   "source": [
    "## Evaluation Script\n",
    "NER models are usually evaluated using the CoNLL-2003 evaluation metric.\n",
    "This metric considers [precision, recall and f1-score](https://en.wikipedia.org/wiki/Precision_and_recall).\n",
    "Additionally, these values are computed with respect to entities instead of individual tokens.\n",
    "A predicted entity is consired correct only if the exact tokens are correctly identified and classified.\n",
    "\n",
    "We use the seqeval library to compute the CoNLL metric.\n",
    "More specifically, we use the `classification_report` function \n",
    "  which reports precision, recall, f1-score and support for each entity type plus three averages over the entity types: micro, macro and weigthed.\n",
    "In the following, you can see an example of this classification report.\n",
    "The most important value in this table is the micro-averaged f1-score (`0.55` in the example).\n",
    "\n",
    "```\n",
    "              precision    recall  f1-score   support\n",
    "\n",
    "         LOC       0.84      0.78      0.81      1837\n",
    "        MISC       0.74      0.70      0.72       922\n",
    "         ORG       0.21      0.76      0.32      1341\n",
    "         PER       0.69      0.54      0.60      1842\n",
    "\n",
    "   micro avg       0.45      0.69      0.55      5942\n",
    "   macro avg       0.62      0.70      0.61      5942\n",
    "weighted avg       0.63      0.69      0.62      5942\n",
    "```"
   ]
  },
  {
   "cell_type": "code",
   "execution_count": 44,
   "metadata": {
    "id": "tPxysOE7rcnv"
   },
   "outputs": [],
   "source": [
    "def ids_to_tags(y):\n",
    "    y_tags = []\n",
    "    for y_k in y:\n",
    "        y_tags.append([y_enc.get_symbol(tag) for tag in y_k])\n",
    "    return y_tags\n",
    "\n",
    "def decode_y(y, y_pred):\n",
    "    y = ids_to_tags(y)\n",
    "    y_pred = ids_to_tags(y_pred)\n",
    "    return y, y_pred\n",
    "\n",
    "def cr_eval(xs, ys, crf):\n",
    "    ys_pred = []\n",
    "    for x in xs:\n",
    "        y, _, _ = viterbi_v(x, crf)\n",
    "        ys_pred.append(np.array(y))\n",
    "\n",
    "    return classification_report(*decode_y(ys, ys_pred), digits=4)\n",
    "\n",
    "def f1_score_eval(xs, ys, crf):\n",
    "    ys_pred = []\n",
    "    for x in xs:\n",
    "        y, _, _ = viterbi_v(x, crf)\n",
    "        ys_pred.append(np.array(y))\n",
    "\n",
    "    return f1_score(*decode_y(ys, ys_pred))"
   ]
  },
  {
   "cell_type": "markdown",
   "metadata": {
    "id": "8Bf2z6NdwYto"
   },
   "source": [
    "## Viterbi Algorithm\n",
    "\n",
    "We now implement the Viterbi algorithm for a CRF model.\n",
    "It is basically the same algorithm used for an HMM, \n",
    "  except that the observation score for each token is computed from a list of features instead of a unique HMM parameter.\n",
    "Now that we have a log-linear model, to work in the log domain makes even more sense."
   ]
  },
  {
   "cell_type": "markdown",
   "metadata": {
    "id": "ufGAnr66nnSB"
   },
   "source": [
    "### Observation Score Matrix\n",
    "One key advantage of the CRF model (when compared to HMM) is the possibility to define arbitrary features for each token $x_t$.\n",
    "But, in order to run the Viterbi algorithm,\n",
    "  we have that each token has a observation *score* that is equal to the sum of the scores of all its features (one score per possible tag $y_t$).\n",
    "Thus, after summing the parameters for all features of a token for each tag, \n",
    "  we end up with one number per tag for each token.\n",
    "And this is basically the same as the HMM.\n",
    "The function below does exactly that:\n",
    "  it computes the observation score matrix $w^{x,obs} = (w^{x,obs}_{ti})_{t=1,\\ldots,T \\times i=1,\\ldots,N} \\in \\mathbb R^{T \\times N}$,\n",
    "  where $w^{x,obs}_{ti} \\in \\mathbb R$ is the score associated with the $t$-th token and the tag $i$.\n",
    "For each tag $i$, this score is just the sum of the observation parameters for all features of token $x_t$."
   ]
  },
  {
   "cell_type": "code",
   "execution_count": 45,
   "metadata": {
    "id": "iVktL5d1syvW"
   },
   "outputs": [],
   "source": [
    "def calc_x_w_obs(x, crf):\n",
    "    x_w_obs = np.zeros((len(x), crf.num_states))\n",
    "    for t, ftrs in enumerate(x):\n",
    "        x_w_obs[t] += crf.w_obs[:, ftrs].sum(axis=1)\n",
    "    return x_w_obs"
   ]
  },
  {
   "cell_type": "markdown",
   "metadata": {
    "id": "E5JHYRmEcgVc"
   },
   "source": [
    "### Code"
   ]
  },
  {
   "cell_type": "code",
   "execution_count": 46,
   "metadata": {
    "id": "Jz53gK4h0eis"
   },
   "outputs": [],
   "source": [
    "def viterbi_v(x, crf):\n",
    "    #\n",
    "    # x_w_obs.shape: (seq_len, num_states)\n",
    "    #   contains the logits for each (token, tag)\n",
    "    #\n",
    "\n",
    "    num_states = crf.num_states\n",
    "    seq_len = len(x)\n",
    "\n",
    "    x_w_obs = calc_x_w_obs(x, crf)\n",
    "    \n",
    "    log_delta = np.zeros((seq_len, num_states))\n",
    "    psi = np.full((seq_len, num_states), -1, dtype=np.int32)\n",
    "\n",
    "    # initilization\n",
    "    log_delta[0] = crf.w_start + x_w_obs[0]\n",
    "\n",
    "    for t in range(1, seq_len):\n",
    "        # Sum log_delta[t-1] (array of log_delta in the previous step) with \n",
    "        # w_trans matrix. Since delta[t-1] is an array, we want to broadcast its \n",
    "        # second dimension through the first dimension of w_trans (which \n",
    "        # represents the i state on a transition i->j). So that, in the end, \n",
    "        # we have log_delta_a[i,j] = log_delta[t-1,i] + w_trans[i,j]\n",
    "        log_delta_a = log_delta[t-1].reshape(-1, 1) + crf.w_trans\n",
    "        \n",
    "        # log_delta is the max value plus the emission probability on \n",
    "        # time-step t. The max is taken along the first dimension, i.e., the max \n",
    "        # along the previous state `i` for each state `j`.\n",
    "        log_delta[t] = log_delta_a.max(axis=0) + x_w_obs[t]\n",
    "\n",
    "        # psi is the argmax\n",
    "        psi[t] = log_delta_a.argmax(axis=0)\n",
    "    \n",
    "    # now we recover the most likely sequence of states backwards, from the last\n",
    "    # time step (in Python, -1 represents the last index of a list/array) up to\n",
    "    # the first one.\n",
    "    y = []\n",
    "    # here we use the argmax() method of a numpy array to find the best \n",
    "    # state on the last time step\n",
    "    y.append(log_delta[-1].argmax())\n",
    "    for t in range(seq_len-1, 0, -1):\n",
    "        y.append(psi[t, y[-1]])\n",
    "\n",
    "    # the list y is backwards, so reverse it and return\n",
    "    y.reverse()\n",
    "    return y, log_delta, psi"
   ]
  },
  {
   "cell_type": "markdown",
   "metadata": {
    "id": "8Wc57veQGD-D"
   },
   "source": [
    "## Structured Perceptron\n",
    "\n",
    "The following implementation includes an optional argument (`crf_avg`) that, when provided, keeps track of the average (in fact, the sum; but it is the same in practice) model among the models after each iteration.\n",
    "This version of the perceptron is known as **averaged perceptron** and presents better convergence than the original algorithm."
   ]
  },
  {
   "cell_type": "code",
   "execution_count": 47,
   "metadata": {
    "id": "Q_i5G7Q5_EgZ"
   },
   "outputs": [],
   "source": [
    "# algorithm deviates from description in Altun et al. etc., compare with correction below\n",
    "\n",
    "from numpy.random import default_rng\n",
    "rng = default_rng()\n",
    "\n",
    "def struct_perceptron(x_train, y_train, max_iter, crf, crf_avg=None,\n",
    "                      x_dev=None, y_dev=None, \n",
    "                      train_errors=None, dev_f1_scores=None):\n",
    "    if train_errors is None:\n",
    "        train_errors = []\n",
    "    if dev_f1_scores is None:\n",
    "        dev_f1_scores = []\n",
    "    \n",
    "    tbar = tqdm(range(max_iter))\n",
    "    for iter in tbar:\n",
    "        # it is usually beneficial to randomize the order we visit the examples\n",
    "        rnd_idxs = rng.permutation(len(x_train))\n",
    "        errors = 0\n",
    "        num_tokens = 0\n",
    "        for i in rnd_idxs:\n",
    "            # pick an example\n",
    "            x, y = x_train[i], y_train[i]\n",
    "            \n",
    "            # predict the highest scoring sequence\n",
    "            y_pred, _, _ = viterbi_v(x, crf)\n",
    "\n",
    "            # update features for the first time step\n",
    "            if y_pred[0] != y[0]:\n",
    "                # correct features\n",
    "                crf.w_start[y[0]] += 1\n",
    "                crf.w_obs[y[0], x[0]] += 1\n",
    "                # incorrect features\n",
    "                crf.w_start[y_pred[0]] -= 1\n",
    "                crf.w_obs[y_pred[0], x[0]] -= 1\n",
    "                \n",
    "                errors += 1\n",
    "            \n",
    "            # update feature weights for the remaining time steps\n",
    "            num_tokens += 1\n",
    "            for t in range(1, len(x)):\n",
    "                if y_pred[t] != y[t]:\n",
    "                    # correct features\n",
    "                    crf.w_trans[y[t-1], y[t]] += 1\n",
    "                    crf.w_obs[y[t], x[t]] += 1\n",
    "                    # incorrect features\n",
    "                    crf.w_trans[y_pred[t-1], y_pred[t]] -= 1\n",
    "                    crf.w_obs[y_pred[t], x[t]] -= 1\n",
    "                    \n",
    "                    errors += 1\n",
    "                \n",
    "                num_tokens += 1\n",
    "\n",
    "            # update sum of weights (averaged perceptron)\n",
    "            if crf_avg is not None:\n",
    "                crf_avg.w_start += crf.w_start\n",
    "                crf_avg.w_trans += crf.w_trans\n",
    "                crf_avg.w_obs += crf.w_obs\n",
    "        \n",
    "        # evaluate the averaged model in the DEV dataset\n",
    "        if x_dev is not None:\n",
    "            dev_f1_score = f1_score_eval(x_dev, y_dev, crf_avg if crf_avg is not None else crf)\n",
    "        else:\n",
    "            dev_f1_score = np.nan\n",
    "\n",
    "        # compute the ratio of wrongly classified training tokens\n",
    "        train_error = errors/num_tokens\n",
    "\n",
    "        train_errors.append(train_error)\n",
    "        dev_f1_scores.append(dev_f1_score)\n",
    "        \n",
    "        tbar.set_description(f'Train errors: {train_error}, DEV F1-score: {dev_f1_score}')\n",
    "\n",
    "    return train_errors, dev_f1_scores"
   ]
  },
  {
   "cell_type": "code",
   "execution_count": 48,
   "metadata": {},
   "outputs": [],
   "source": [
    "# Correction: updates now with respect to whether total sequence prediction is right/wrong (as in Altun et.)\n",
    "# affects only updates to crf.w_trans for individually correct labels ...\n",
    "\n",
    "from numpy.random import default_rng\n",
    "rng = default_rng()\n",
    "\n",
    "def struct_perceptron(x_train, y_train, max_iter, crf, crf_avg=None,\n",
    "                      x_dev=None, y_dev=None, \n",
    "                      train_errors=None, dev_f1_scores=None):\n",
    "    if train_errors is None:\n",
    "        train_errors = []\n",
    "    if dev_f1_scores is None:\n",
    "        dev_f1_scores = []\n",
    "    \n",
    "    tbar = tqdm(range(max_iter))\n",
    "    for iter in tbar:\n",
    "        # it is usually beneficial to randomize the order we visit the examples\n",
    "        rnd_idxs = rng.permutation(len(x_train))\n",
    "        errors = 0\n",
    "        num_examples = 0\n",
    "        for i in rnd_idxs:\n",
    "            # pick an example\n",
    "            x, y = x_train[i], y_train[i]\n",
    "            num_examples += 1\n",
    "            \n",
    "            # predict the highest scoring sequence\n",
    "            y_pred, _, _ = viterbi_v(x, crf)\n",
    "\n",
    "            if y_pred != y:\n",
    "                errors += 1\n",
    "\n",
    "            # update features for the first time step\n",
    "                # correct features\n",
    "                crf.w_start[y[0]] += 1\n",
    "                crf.w_obs[y[0], x[0]] += 1\n",
    "                # incorrect features\n",
    "                crf.w_start[y_pred[0]] -= 1\n",
    "                crf.w_obs[y_pred[0], x[0]] -= 1\n",
    "            \n",
    "                # update feature weights for the remaining time steps\n",
    "                for t in range(1, len(x)):\n",
    "                    # correct features\n",
    "                    crf.w_trans[y[t-1], y[t]] += 1  # will happen even if y_pred[t] == y[t]\n",
    "                    crf.w_obs[y[t], x[t]] += 1\n",
    "                    # incorrect features\n",
    "                    crf.w_trans[y_pred[t-1], y_pred[t]] -= 1  # will happen even if y_pred[t] == y[t]\n",
    "                    crf.w_obs[y_pred[t], x[t]] -= 1\n",
    "                    \n",
    "            # update sum of weights (averaged perceptron)\n",
    "            if crf_avg is not None:\n",
    "                crf_avg.w_start += crf.w_start\n",
    "                crf_avg.w_trans += crf.w_trans\n",
    "                crf_avg.w_obs += crf.w_obs\n",
    "        \n",
    "        # evaluate the averaged model in the DEV dataset\n",
    "        if x_dev is not None:\n",
    "            dev_f1_score = f1_score_eval(x_dev, y_dev, crf_avg if crf_avg is not None else crf)\n",
    "        else:\n",
    "            dev_f1_score = np.nan\n",
    "\n",
    "        # compute the ratio of wrongly classified training tokens\n",
    "        train_error = errors/num_examples\n",
    "\n",
    "        train_errors.append(train_error)\n",
    "        dev_f1_scores.append(dev_f1_score)\n",
    "        \n",
    "        tbar.set_description(f'Train errors: {train_error}, DEV F1-score: {dev_f1_score}')\n",
    "\n",
    "    return train_errors, dev_f1_scores"
   ]
  },
  {
   "cell_type": "markdown",
   "metadata": {
    "id": "XwBdpclI3Jyw"
   },
   "source": [
    "## Models\n",
    "We create two models (`crf` and `crf_avg`) in order to keep track of the average model, which is better than just the final model."
   ]
  },
  {
   "cell_type": "code",
   "execution_count": 49,
   "metadata": {
    "id": "9IcW2xROnvfq"
   },
   "outputs": [],
   "source": [
    "crf = CrfModel(len(y_enc), len(x_enc))\n",
    "crf_avg = CrfModel(len(y_enc), len(x_enc))\n",
    "train_errors = []\n",
    "dev_f1_scores = []"
   ]
  },
  {
   "cell_type": "markdown",
   "metadata": {
    "id": "ppReqaWq3Nia"
   },
   "source": [
    "## Training"
   ]
  },
  {
   "cell_type": "code",
   "execution_count": 50,
   "metadata": {
    "colab": {
     "base_uri": "https://localhost:8080/",
     "height": 49,
     "referenced_widgets": [
      "c6754bd3119f4738a6e4c739a3d33b8b",
      "e718372957b1420cb73247b8cf615142",
      "a8df2dbf12e649c291f337771b1c5ec7",
      "d8905d0517694bd4af1691eed88e9ceb",
      "6210d60bff614a92866e1a0b2d41add6",
      "eb5491f3bb814b0e83424a9ecc4c5f41",
      "419f7479da3c4d5fb87434ae1a35e0c3",
      "1c29891ef3b74dfcab616ac32b5054c4",
      "7fa4fd44e3154e8890d7cc8ce4876794",
      "b4406b15940f4360a297816387a7e814",
      "3d5837a2ce3a4215a5ba4bc74369cead"
     ]
    },
    "executionInfo": {
     "elapsed": 81914,
     "status": "ok",
     "timestamp": 1653062216902,
     "user": {
      "displayName": "Eraldo Fernandes",
      "userId": "09824487528840751991"
     },
     "user_tz": -120
    },
    "id": "U4z97AB-murI",
    "outputId": "d4d6a737-0ada-44c6-c1fc-6d424241b853"
   },
   "outputs": [
    {
     "data": {
      "application/vnd.jupyter.widget-view+json": {
       "model_id": "4c8d461e2c3c4eff900918d776062b6d",
       "version_major": 2,
       "version_minor": 0
      },
      "text/plain": [
       "  0%|          | 0/10 [00:00<?, ?it/s]"
      ]
     },
     "metadata": {},
     "output_type": "display_data"
    }
   ],
   "source": [
    "train_errors, dev_f1_scores = \\\n",
    "    struct_perceptron(x_train=x_train, y_train=y_train, max_iter=10, \n",
    "                      crf=crf, crf_avg=crf_avg, x_dev=x_dev, y_dev=y_dev, \n",
    "                      train_errors=train_errors, dev_f1_scores=dev_f1_scores)"
   ]
  },
  {
   "cell_type": "markdown",
   "metadata": {
    "id": "bgr54hAy3PKU"
   },
   "source": [
    "## Results"
   ]
  },
  {
   "cell_type": "code",
   "execution_count": 51,
   "metadata": {
    "colab": {
     "base_uri": "https://localhost:8080/",
     "height": 283
    },
    "executionInfo": {
     "elapsed": 616,
     "status": "ok",
     "timestamp": 1653062217478,
     "user": {
      "displayName": "Eraldo Fernandes",
      "userId": "09824487528840751991"
     },
     "user_tz": -120
    },
    "id": "uVcLk-GbOWey",
    "outputId": "00fdee47-9ec0-4fa6-a39c-d0abbdd3a77a"
   },
   "outputs": [
    {
     "data": {
      "text/plain": [
       "[<matplotlib.lines.Line2D at 0x1d954935f08>]"
      ]
     },
     "execution_count": 51,
     "metadata": {},
     "output_type": "execute_result"
    },
    {
     "data": {
      "image/png": "[encoded data removed]",
      "text/plain": [
       "<Figure size 640x480 with 1 Axes>"
      ]
     },
     "metadata": {},
     "output_type": "display_data"
    }
   ],
   "source": [
    "plt.plot(train_errors)"
   ]
  },
  {
   "cell_type": "code",
   "execution_count": 52,
   "metadata": {
    "colab": {
     "base_uri": "https://localhost:8080/",
     "height": 283
    },
    "executionInfo": {
     "elapsed": 39,
     "status": "ok",
     "timestamp": 1653062217480,
     "user": {
      "displayName": "Eraldo Fernandes",
      "userId": "09824487528840751991"
     },
     "user_tz": -120
    },
    "id": "pDG9BKikOuET",
    "outputId": "fcc97eea-bbe1-4a9a-823c-08cba3fe7839"
   },
   "outputs": [
    {
     "data": {
      "text/plain": [
       "[<matplotlib.lines.Line2D at 0x1d9538bc588>]"
      ]
     },
     "execution_count": 52,
     "metadata": {},
     "output_type": "execute_result"
    },
    {
     "data": {
      "image/png": "[encoded data removed]",
      "text/plain": [
       "<Figure size 640x480 with 1 Axes>"
      ]
     },
     "metadata": {},
     "output_type": "display_data"
    }
   ],
   "source": [
    "plt.plot(dev_f1_scores)"
   ]
  },
  {
   "cell_type": "code",
   "execution_count": 53,
   "metadata": {
    "colab": {
     "base_uri": "https://localhost:8080/"
    },
    "executionInfo": {
     "elapsed": 1897,
     "status": "ok",
     "timestamp": 1653062219356,
     "user": {
      "displayName": "Eraldo Fernandes",
      "userId": "09824487528840751991"
     },
     "user_tz": -120
    },
    "id": "_6diGhuuk5gY",
    "outputId": "f626e875-25b0-460a-bf5d-99c096dcd82f"
   },
   "outputs": [
    {
     "name": "stdout",
     "output_type": "stream",
     "text": [
      "              precision    recall  f1-score   support\n",
      "\n",
      "         LOC     0.9090    0.8155    0.8597      1837\n",
      "        MISC     0.8857    0.7310    0.8010       922\n",
      "         ORG     0.7909    0.5839    0.6718      1341\n",
      "         PER     0.7363    0.5016    0.5967      1842\n",
      "\n",
      "   micro avg     0.8335    0.6528    0.7322      5942\n",
      "   macro avg     0.8305    0.6580    0.7323      5942\n",
      "weighted avg     0.8252    0.6528    0.7266      5942\n",
      "\n"
     ]
    }
   ],
   "source": [
    "print(cr_eval(x_dev, y_dev, crf_avg))"
   ]
  },
  {
   "cell_type": "code",
   "execution_count": null,
   "metadata": {},
   "outputs": [],
   "source": []
  }
 ],
 "metadata": {
  "colab": {
   "authorship_tag": "ABX9TyOH+8QX3xt3252NYA+wdloy",
   "collapsed_sections": [],
   "name": "CRF - NER Tagging.ipynb",
   "provenance": [],
   "toc_visible": true
  },
  "kernelspec": {
   "display_name": "Python 3 (ipykernel)",
   "language": "python",
   "name": "python3"
  },
  "language_info": {
   "codemirror_mode": {
    "name": "ipython",
    "version": 3
   },
   "file_extension": ".py",
   "mimetype": "text/x-python",
   "name": "python",
   "nbconvert_exporter": "python",
   "pygments_lexer": "ipython3",
   "version": "3.7.6"
  },
  "widgets": {
   "application/vnd.jupyter.widget-state+json": {
    "1c29891ef3b74dfcab616ac32b5054c4": {
     "model_module": "@jupyter-widgets/base",
     "model_module_version": "1.2.0",
     "model_name": "LayoutModel",
     "state": {
      "_model_module": "@jupyter-widgets/base",
      "_model_module_version": "1.2.0",
      "_model_name": "LayoutModel",
      "_view_count": null,
      "_view_module": "@jupyter-widgets/base",
      "_view_module_version": "1.2.0",
      "_view_name": "LayoutView",
      "align_content": null,
      "align_items": null,
      "align_self": null,
      "border": null,
      "bottom": null,
      "display": null,
      "flex": null,
      "flex_flow": null,
      "grid_area": null,
      "grid_auto_columns": null,
      "grid_auto_flow": null,
      "grid_auto_rows": null,
      "grid_column": null,
      "grid_gap": null,
      "grid_row": null,
      "grid_template_areas": null,
      "grid_template_columns": null,
      "grid_template_rows": null,
      "height": null,
      "justify_content": null,
      "justify_items": null,
      "left": null,
      "margin": null,
      "max_height": null,
      "max_width": null,
      "min_height": null,
      "min_width": null,
      "object_fit": null,
      "object_position": null,
      "order": null,
      "overflow": null,
      "overflow_x": null,
      "overflow_y": null,
      "padding": null,
      "right": null,
      "top": null,
      "visibility": null,
      "width": null
     }
    },
    "3d5837a2ce3a4215a5ba4bc74369cead": {
     "model_module": "@jupyter-widgets/controls",
     "model_module_version": "1.5.0",
     "model_name": "DescriptionStyleModel",
     "state": {
      "_model_module": "@jupyter-widgets/controls",
      "_model_module_version": "1.5.0",
      "_model_name": "DescriptionStyleModel",
      "_view_count": null,
      "_view_module": "@jupyter-widgets/base",
      "_view_module_version": "1.2.0",
      "_view_name": "StyleView",
      "description_width": ""
     }
    },
    "419f7479da3c4d5fb87434ae1a35e0c3": {
     "model_module": "@jupyter-widgets/controls",
     "model_module_version": "1.5.0",
     "model_name": "DescriptionStyleModel",
     "state": {
      "_model_module": "@jupyter-widgets/controls",
      "_model_module_version": "1.5.0",
      "_model_name": "DescriptionStyleModel",
      "_view_count": null,
      "_view_module": "@jupyter-widgets/base",
      "_view_module_version": "1.2.0",
      "_view_name": "StyleView",
      "description_width": ""
     }
    },
    "6210d60bff614a92866e1a0b2d41add6": {
     "model_module": "@jupyter-widgets/base",
     "model_module_version": "1.2.0",
     "model_name": "LayoutModel",
     "state": {
      "_model_module": "@jupyter-widgets/base",
      "_model_module_version": "1.2.0",
      "_model_name": "LayoutModel",
      "_view_count": null,
      "_view_module": "@jupyter-widgets/base",
      "_view_module_version": "1.2.0",
      "_view_name": "LayoutView",
      "align_content": null,
      "align_items": null,
      "align_self": null,
      "border": null,
      "bottom": null,
      "display": null,
      "flex": null,
      "flex_flow": null,
      "grid_area": null,
      "grid_auto_columns": null,
      "grid_auto_flow": null,
      "grid_auto_rows": null,
      "grid_column": null,
      "grid_gap": null,
      "grid_row": null,
      "grid_template_areas": null,
      "grid_template_columns": null,
      "grid_template_rows": null,
      "height": null,
      "justify_content": null,
      "justify_items": null,
      "left": null,
      "margin": null,
      "max_height": null,
      "max_width": null,
      "min_height": null,
      "min_width": null,
      "object_fit": null,
      "object_position": null,
      "order": null,
      "overflow": null,
      "overflow_x": null,
      "overflow_y": null,
      "padding": null,
      "right": null,
      "top": null,
      "visibility": null,
      "width": null
     }
    },
    "7fa4fd44e3154e8890d7cc8ce4876794": {
     "model_module": "@jupyter-widgets/controls",
     "model_module_version": "1.5.0",
     "model_name": "ProgressStyleModel",
     "state": {
      "_model_module": "@jupyter-widgets/controls",
      "_model_module_version": "1.5.0",
      "_model_name": "ProgressStyleModel",
      "_view_count": null,
      "_view_module": "@jupyter-widgets/base",
      "_view_module_version": "1.2.0",
      "_view_name": "StyleView",
      "bar_color": null,
      "description_width": ""
     }
    },
    "a8df2dbf12e649c291f337771b1c5ec7": {
     "model_module": "@jupyter-widgets/controls",
     "model_module_version": "1.5.0",
     "model_name": "FloatProgressModel",
     "state": {
      "_dom_classes": [],
      "_model_module": "@jupyter-widgets/controls",
      "_model_module_version": "1.5.0",
      "_model_name": "FloatProgressModel",
      "_view_count": null,
      "_view_module": "@jupyter-widgets/controls",
      "_view_module_version": "1.5.0",
      "_view_name": "ProgressView",
      "bar_style": "success",
      "description": "",
      "description_tooltip": null,
      "layout": "IPY_MODEL_1c29891ef3b74dfcab616ac32b5054c4",
      "max": 10,
      "min": 0,
      "orientation": "horizontal",
      "style": "IPY_MODEL_7fa4fd44e3154e8890d7cc8ce4876794",
      "value": 10
     }
    },
    "b4406b15940f4360a297816387a7e814": {
     "model_module": "@jupyter-widgets/base",
     "model_module_version": "1.2.0",
     "model_name": "LayoutModel",
     "state": {
      "_model_module": "@jupyter-widgets/base",
      "_model_module_version": "1.2.0",
      "_model_name": "LayoutModel",
      "_view_count": null,
      "_view_module": "@jupyter-widgets/base",
      "_view_module_version": "1.2.0",
      "_view_name": "LayoutView",
      "align_content": null,
      "align_items": null,
      "align_self": null,
      "border": null,
      "bottom": null,
      "display": null,
      "flex": null,
      "flex_flow": null,
      "grid_area": null,
      "grid_auto_columns": null,
      "grid_auto_flow": null,
      "grid_auto_rows": null,
      "grid_column": null,
      "grid_gap": null,
      "grid_row": null,
      "grid_template_areas": null,
      "grid_template_columns": null,
      "grid_template_rows": null,
      "height": null,
      "justify_content": null,
      "justify_items": null,
      "left": null,
      "margin": null,
      "max_height": null,
      "max_width": null,
      "min_height": null,
      "min_width": null,
      "object_fit": null,
      "object_position": null,
      "order": null,
      "overflow": null,
      "overflow_x": null,
      "overflow_y": null,
      "padding": null,
      "right": null,
      "top": null,
      "visibility": null,
      "width": null
     }
    },
    "c6754bd3119f4738a6e4c739a3d33b8b": {
     "model_module": "@jupyter-widgets/controls",
     "model_module_version": "1.5.0",
     "model_name": "HBoxModel",
     "state": {
      "_dom_classes": [],
      "_model_module": "@jupyter-widgets/controls",
      "_model_module_version": "1.5.0",
      "_model_name": "HBoxModel",
      "_view_count": null,
      "_view_module": "@jupyter-widgets/controls",
      "_view_module_version": "1.5.0",
      "_view_name": "HBoxView",
      "box_style": "",
      "children": [
       "IPY_MODEL_e718372957b1420cb73247b8cf615142",
       "IPY_MODEL_a8df2dbf12e649c291f337771b1c5ec7",
       "IPY_MODEL_d8905d0517694bd4af1691eed88e9ceb"
      ],
      "layout": "IPY_MODEL_6210d60bff614a92866e1a0b2d41add6"
     }
    },
    "d8905d0517694bd4af1691eed88e9ceb": {
     "model_module": "@jupyter-widgets/controls",
     "model_module_version": "1.5.0",
     "model_name": "HTMLModel",
     "state": {
      "_dom_classes": [],
      "_model_module": "@jupyter-widgets/controls",
      "_model_module_version": "1.5.0",
      "_model_name": "HTMLModel",
      "_view_count": null,
      "_view_module": "@jupyter-widgets/controls",
      "_view_module_version": "1.5.0",
      "_view_name": "HTMLView",
      "description": "",
      "description_tooltip": null,
      "layout": "IPY_MODEL_b4406b15940f4360a297816387a7e814",
      "placeholder": "​",
      "style": "IPY_MODEL_3d5837a2ce3a4215a5ba4bc74369cead",
      "value": " 10/10 [01:22&lt;00:00,  8.07s/it]"
     }
    },
    "e718372957b1420cb73247b8cf615142": {
     "model_module": "@jupyter-widgets/controls",
     "model_module_version": "1.5.0",
     "model_name": "HTMLModel",
     "state": {
      "_dom_classes": [],
      "_model_module": "@jupyter-widgets/controls",
      "_model_module_version": "1.5.0",
      "_model_name": "HTMLModel",
      "_view_count": null,
      "_view_module": "@jupyter-widgets/controls",
      "_view_module_version": "1.5.0",
      "_view_name": "HTMLView",
      "description": "",
      "description_tooltip": null,
      "layout": "IPY_MODEL_eb5491f3bb814b0e83424a9ecc4c5f41",
      "placeholder": "​",
      "style": "IPY_MODEL_419f7479da3c4d5fb87434ae1a35e0c3",
      "value": "Train errors: 0.024344247400808365, DEV F1-score: 0.8021922428330522: 100%"
     }
    },
    "eb5491f3bb814b0e83424a9ecc4c5f41": {
     "model_module": "@jupyter-widgets/base",
     "model_module_version": "1.2.0",
     "model_name": "LayoutModel",
     "state": {
      "_model_module": "@jupyter-widgets/base",
      "_model_module_version": "1.2.0",
      "_model_name": "LayoutModel",
      "_view_count": null,
      "_view_module": "@jupyter-widgets/base",
      "_view_module_version": "1.2.0",
      "_view_name": "LayoutView",
      "align_content": null,
      "align_items": null,
      "align_self": null,
      "border": null,
      "bottom": null,
      "display": null,
      "flex": null,
      "flex_flow": null,
      "grid_area": null,
      "grid_auto_columns": null,
      "grid_auto_flow": null,
      "grid_auto_rows": null,
      "grid_column": null,
      "grid_gap": null,
      "grid_row": null,
      "grid_template_areas": null,
      "grid_template_columns": null,
      "grid_template_rows": null,
      "height": null,
      "justify_content": null,
      "justify_items": null,
      "left": null,
      "margin": null,
      "max_height": null,
      "max_width": null,
      "min_height": null,
      "min_width": null,
      "object_fit": null,
      "object_position": null,
      "order": null,
      "overflow": null,
      "overflow_x": null,
      "overflow_y": null,
      "padding": null,
      "right": null,
      "top": null,
      "visibility": null,
      "width": null
     }
    }
   }
  }
 },
 "nbformat": 4,
 "nbformat_minor": 1
}
